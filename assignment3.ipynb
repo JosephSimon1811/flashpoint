{
 "cells": [
  {
   "cell_type": "code",
   "execution_count": 2,
   "metadata": {},
   "outputs": [
    {
     "name": "stdout",
     "output_type": "stream",
     "text": [
      "enter a number1\n",
      "enter a number2\n",
      "enter a number3\n",
      "enter a number4\n",
      "enter a number5\n",
      "enter a numberdone\n",
      "[1, 2, 3, 4, 5]\n",
      "maximum= 5\n",
      "miniimum 1\n"
     ]
    }
   ],
   "source": [
    "#answer 1\n",
    "l=[]\n",
    "while True:\n",
    "    a=input(\"enter a number\")\n",
    "    if a==\"done\":\n",
    "        break\n",
    "    z=int(a)\n",
    "    l.append(z)\n",
    "    continue\n",
    "c=max(l)\n",
    "d=min(l)\n",
    "print(l)\n",
    "print(\"maximum=\",c)\n",
    "print(\"miniimum\",d)\n"
   ]
  },
  {
   "cell_type": "code",
   "execution_count": null,
   "metadata": {},
   "outputs": [],
   "source": []
  }
 ],
 "metadata": {
  "kernelspec": {
   "display_name": "Python 3",
   "language": "python",
   "name": "python3"
  },
  "language_info": {
   "codemirror_mode": {
    "name": "ipython",
    "version": 3
   },
   "file_extension": ".py",
   "mimetype": "text/x-python",
   "name": "python",
   "nbconvert_exporter": "python",
   "pygments_lexer": "ipython3",
   "version": "3.7.3"
  }
 },
 "nbformat": 4,
 "nbformat_minor": 2
}
