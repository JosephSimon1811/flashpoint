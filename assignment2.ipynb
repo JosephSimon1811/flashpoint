{
 "cells": [
  {
   "cell_type": "code",
   "execution_count": 1,
   "metadata": {},
   "outputs": [
    {
     "name": "stdout",
     "output_type": "stream",
     "text": [
      "Enter the number4\n",
      "Enter the number5\n",
      "Enter the numbernine\n",
      "bad data invalid input\n",
      "Enter the number7\n",
      "Enter the numberdone\n",
      "Total= 16\n",
      "Count= 3\n",
      "Average 5.333333333333333\n"
     ]
    }
   ],
   "source": [
    "#answer 1\n",
    "count=0\n",
    "sum1=0\n",
    "while True:\n",
    "    try:\n",
    "        num=input(\"Enter the number\")\n",
    "        if num==\"done\":\n",
    "            break\n",
    "        n=int(num)\n",
    "        count=count+1\n",
    "        sum1=sum1+n\n",
    "    except:\n",
    "        print(\"bad data invalid input\")\n",
    "        continue\n",
    "average=float(sum1)/count\n",
    "print(\"Total=\",sum1)\n",
    "print(\"Count=\",count)\n",
    "print(\"Average\",average)"
   ]
  },
  {
   "cell_type": "code",
   "execution_count": 2,
   "metadata": {},
   "outputs": [
    {
     "name": "stdout",
     "output_type": "stream",
     "text": [
      "enter hours45\n",
      "enter rate10\n",
      "Pay 475.0\n",
      "all done\n"
     ]
    }
   ],
   "source": [
    "# answer 2\n",
    "def computepay(hours, rate):\n",
    "    if hours>40:\n",
    "        z=hours-40\n",
    "        y=40*rate+z*1.5*rate\n",
    "        print(\"Pay\",y)\n",
    "    elif hours<=40:\n",
    "        pay=hours*rate\n",
    "        print(\"Pay=\",pay)\n",
    "a=int(input(\"enter hours\"))\n",
    "b=int(input(\"enter rate\"))\n",
    "computepay(a,b)\n",
    "print(\"all done\")"
   ]
  },
  {
   "cell_type": "code",
   "execution_count": 3,
   "metadata": {},
   "outputs": [
    {
     "name": "stdout",
     "output_type": "stream",
     "text": [
      "the float value is 0.8475\n"
     ]
    }
   ],
   "source": [
    "#answer 3\n",
    "str1=\"X-DSPAM-CONFIDENCE:0.8475\"\n",
    "z=str1.find(\":\")\n",
    "a=str1[z+1:]\n",
    "f=float(a)\n",
    "print(\"the float value is\",f)"
   ]
  },
  {
   "cell_type": "code",
   "execution_count": null,
   "metadata": {},
   "outputs": [],
   "source": []
  }
 ],
 "metadata": {
  "kernelspec": {
   "display_name": "Python 3",
   "language": "python",
   "name": "python3"
  },
  "language_info": {
   "codemirror_mode": {
    "name": "ipython",
    "version": 3
   },
   "file_extension": ".py",
   "mimetype": "text/x-python",
   "name": "python",
   "nbconvert_exporter": "python",
   "pygments_lexer": "ipython3",
   "version": "3.7.3"
  }
 },
 "nbformat": 4,
 "nbformat_minor": 2
}
