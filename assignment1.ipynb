{
 "cells": [
  {
   "cell_type": "code",
   "execution_count": 1,
   "metadata": {},
   "outputs": [
    {
     "name": "stdout",
     "output_type": "stream",
     "text": [
      "enter your name Joseph\n",
      "Hello  Joseph\n"
     ]
    }
   ],
   "source": [
    "#first question\n",
    "n=input(\"enter your name\")\n",
    "print(\"Hello\",n)"
   ]
  },
  {
   "cell_type": "code",
   "execution_count": 2,
   "metadata": {},
   "outputs": [
    {
     "name": "stdout",
     "output_type": "stream",
     "text": [
      "enter the temperature in celcius20\n",
      "temperature in fahrenite is 68.0\n"
     ]
    }
   ],
   "source": [
    "#second question\n",
    "celcius=float(input(\"enter the temperature in celcius\"))\n",
    "fahrenite=(9*celcius/5)+32\n",
    "print(\"temperature in fahrenite is\",fahrenite)"
   ]
  },
  {
   "cell_type": "code",
   "execution_count": 2,
   "metadata": {},
   "outputs": [
    {
     "name": "stdout",
     "output_type": "stream",
     "text": [
      "enter Hours45\n",
      "enter rate10\n",
      "Pay= 475.0\n"
     ]
    }
   ],
   "source": [
    "#third question\n",
    "n=int(input(\"enter Hours\"))\n",
    "m=int(input(\"enter rate\"))\n",
    "if n>40:\n",
    "    z=n-40\n",
    "    rate1=40*m+z*1.5*m\n",
    "    print(\"Pay=\",rate1)\n",
    "elif n<=40:\n",
    "    rate2=n*m\n",
    "    print(\"Pay\",rate2)"
   ]
  },
  {
   "cell_type": "code",
   "execution_count": 2,
   "metadata": {},
   "outputs": [
    {
     "name": "stdout",
     "output_type": "stream",
     "text": [
      "enter Hours20\n",
      "enter ratenine\n",
      "Error please enter numeric input\n"
     ]
    }
   ],
   "source": [
    "#fourth question\n",
    "try:\n",
    "    n=int(input(\"enter Hours\"))\n",
    "    m=int(input(\"enter rate\"))\n",
    "    if n>40:\n",
    "        z=n-40\n",
    "        rate1=40*m+z*1.5*m\n",
    "        print(\"Pay=\",rate1)\n",
    "    elif n<=40:\n",
    "        rate2=n*m\n",
    "        print(\"Pay\",rate2)\n",
    "except:\n",
    "    print(\"Error please enter numeric input\")"
   ]
  },
  {
   "cell_type": "code",
   "execution_count": 5,
   "metadata": {},
   "outputs": [
    {
     "name": "stdout",
     "output_type": "stream",
     "text": [
      "smallest number= 3\n",
      "all done\n"
     ]
    }
   ],
   "source": [
    "#fifth question\n",
    "sn=1000000000\n",
    "l=[45,708,86,102,3,321,444]\n",
    "for i in l:\n",
    "    if i<sn:\n",
    "        sn=i\n",
    "print(\"smallest number=\",sn)\n",
    "print(\"all done\")\n"
   ]
  },
  {
   "cell_type": "code",
   "execution_count": null,
   "metadata": {},
   "outputs": [],
   "source": []
  }
 ],
 "metadata": {
  "kernelspec": {
   "display_name": "Python 3",
   "language": "python",
   "name": "python3"
  },
  "language_info": {
   "codemirror_mode": {
    "name": "ipython",
    "version": 3
   },
   "file_extension": ".py",
   "mimetype": "text/x-python",
   "name": "python",
   "nbconvert_exporter": "python",
   "pygments_lexer": "ipython3",
   "version": "3.7.3"
  }
 },
 "nbformat": 4,
 "nbformat_minor": 2
}
